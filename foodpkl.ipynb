{
 "cells": [
  {
   "cell_type": "code",
   "execution_count": 2,
   "id": "1326fdca-c22b-4976-8806-167b3fbe395c",
   "metadata": {},
   "outputs": [
    {
     "name": "stdout",
     "output_type": "stream",
     "text": [
      "Requirement already satisfied: pandas in c:\\users\\micheal\\appdata\\local\\programs\\python\\python311\\lib\\site-packages (2.1.1)\n",
      "Requirement already satisfied: fuzzywuzzy in c:\\users\\micheal\\appdata\\local\\programs\\python\\python311\\lib\\site-packages (0.18.0)\n",
      "Requirement already satisfied: python-Levenshtein in c:\\users\\micheal\\appdata\\local\\programs\\python\\python311\\lib\\site-packages (0.22.0)\n",
      "Collecting openpyxl\n",
      "  Downloading openpyxl-3.1.2-py2.py3-none-any.whl (249 kB)\n",
      "     ---------------------------------------- 0.0/250.0 kB ? eta -:--:--\n",
      "     - -------------------------------------- 10.2/250.0 kB ? eta -:--:--\n",
      "     ------ ------------------------------ 41.0/250.0 kB 487.6 kB/s eta 0:00:01\n",
      "     ---------- -------------------------- 71.7/250.0 kB 558.5 kB/s eta 0:00:01\n",
      "     ---------- -------------------------- 71.7/250.0 kB 558.5 kB/s eta 0:00:01\n",
      "     ---------- -------------------------- 71.7/250.0 kB 558.5 kB/s eta 0:00:01\n",
      "     ------------- ----------------------- 92.2/250.0 kB 374.1 kB/s eta 0:00:01\n",
      "     ------------------- ---------------- 133.1/250.0 kB 392.6 kB/s eta 0:00:01\n",
      "     ---------------------- ------------- 153.6/250.0 kB 416.7 kB/s eta 0:00:01\n",
      "     ------------------------- ---------- 174.1/250.0 kB 419.0 kB/s eta 0:00:01\n",
      "     ---------------------------- ------- 194.6/250.0 kB 420.8 kB/s eta 0:00:01\n",
      "     ----------------------------- ------ 204.8/250.0 kB 401.2 kB/s eta 0:00:01\n",
      "     --------------------------------- -- 235.5/250.0 kB 411.8 kB/s eta 0:00:01\n",
      "     ------------------------------------ 250.0/250.0 kB 414.8 kB/s eta 0:00:00\n",
      "Requirement already satisfied: numpy>=1.23.2 in c:\\users\\micheal\\appdata\\local\\programs\\python\\python311\\lib\\site-packages (from pandas) (1.24.3)\n",
      "Requirement already satisfied: python-dateutil>=2.8.2 in c:\\users\\micheal\\appdata\\local\\programs\\python\\python311\\lib\\site-packages (from pandas) (2.8.2)\n",
      "Requirement already satisfied: pytz>=2020.1 in c:\\users\\micheal\\appdata\\local\\programs\\python\\python311\\lib\\site-packages (from pandas) (2023.3.post1)\n",
      "Requirement already satisfied: tzdata>=2022.1 in c:\\users\\micheal\\appdata\\local\\programs\\python\\python311\\lib\\site-packages (from pandas) (2023.3)\n",
      "Requirement already satisfied: Levenshtein==0.22.0 in c:\\users\\micheal\\appdata\\local\\programs\\python\\python311\\lib\\site-packages (from python-Levenshtein) (0.22.0)\n",
      "Requirement already satisfied: rapidfuzz<4.0.0,>=2.3.0 in c:\\users\\micheal\\appdata\\local\\programs\\python\\python311\\lib\\site-packages (from Levenshtein==0.22.0->python-Levenshtein) (3.3.1)\n",
      "Collecting et-xmlfile (from openpyxl)\n",
      "  Downloading et_xmlfile-1.1.0-py3-none-any.whl (4.7 kB)\n",
      "Requirement already satisfied: six>=1.5 in c:\\users\\micheal\\appdata\\local\\programs\\python\\python311\\lib\\site-packages (from python-dateutil>=2.8.2->pandas) (1.16.0)\n",
      "Installing collected packages: et-xmlfile, openpyxl\n",
      "Successfully installed et-xmlfile-1.1.0 openpyxl-3.1.2\n"
     ]
    }
   ],
   "source": [
    "!pip install pandas fuzzywuzzy python-Levenshtein openpyxl\n",
    "\n"
   ]
  },
  {
   "cell_type": "code",
   "execution_count": 3,
   "id": "a38727b7-862a-445a-bab4-3f72d881891a",
   "metadata": {},
   "outputs": [],
   "source": [
    "import pandas as pd\n",
    "import pickle\n",
    "from fuzzywuzzy import process\n"
   ]
  },
  {
   "cell_type": "code",
   "execution_count": 5,
   "id": "0d3379db-5208-4eaf-a2a5-379aedeb719d",
   "metadata": {},
   "outputs": [],
   "source": [
    "data = pd.read_excel('New-Dataset-update.xlsx')"
   ]
  },
  {
   "cell_type": "code",
   "execution_count": 11,
   "id": "91657f4e-cbe9-40ec-9f2b-13c3836c47fc",
   "metadata": {
    "scrolled": true
   },
   "outputs": [
    {
     "name": "stdout",
     "output_type": "stream",
     "text": [
      "Index(['Food Category ', 'Carbohydratesy', 'Protein', 'Fat', 'Fiber',\n",
      "       'Vitamins and Minerals'],\n",
      "      dtype='object')\n"
     ]
    }
   ],
   "source": [
    "# Print column names to inspect them\n",
    "print(data.columns)\n",
    "\n",
    "# Once you identify the correct column name, replace 'Food Category' in the code with the correct name.\n"
   ]
  },
  {
   "cell_type": "code",
   "execution_count": 12,
   "id": "864a5b71-abec-40b2-8a28-306be0f571a6",
   "metadata": {},
   "outputs": [],
   "source": [
    "data['Food Category '] = data['Food Category '].astype(str)"
   ]
  },
  {
   "cell_type": "code",
   "execution_count": 17,
   "id": "0c22b272-8134-431c-8e7a-f4ed5f6459b7",
   "metadata": {},
   "outputs": [],
   "source": [
    "def get_nutrition_info(food_name):\n",
    "    best_match, score = process.extractOne(food_name, data['Food Category '].tolist())\n",
    "\n",
    "    # Non-match threshold (e.g., 50)\n",
    "    if score < 50:\n",
    "        return \"Food not found.\"\n",
    "\n",
    "    food_data = data[data['Food Category '] == best_match].iloc[0].to_dict()\n",
    "    return food_data\n"
   ]
  },
  {
   "cell_type": "code",
   "execution_count": 19,
   "id": "8c9cd460-dea7-463c-96b9-bc4b976bcee2",
   "metadata": {
    "scrolled": true
   },
   "outputs": [
    {
     "name": "stdin",
     "output_type": "stream",
     "text": [
      "Ramen Ramen\n"
     ]
    },
    {
     "name": "stdout",
     "output_type": "stream",
     "text": [
      "{'Food Category ': 'Ramen', 'Carbohydratesy': 'High', 'Protein': 'Moderate', 'Fat': 'Moderate', 'Fiber': 'Low', 'Vitamins and Minerals': 'Varies'}\n"
     ]
    }
   ],
   "source": [
    "# (Optional) Testing the retrieval function\n",
    "food_name_input = input(\"Ramen\")\n",
    "print(get_nutrition_info(food_name_input))"
   ]
  },
  {
   "cell_type": "code",
   "execution_count": 20,
   "id": "dea5bd32-d105-43cd-9430-d5326bac3ba6",
   "metadata": {},
   "outputs": [],
   "source": [
    "# Step 3: Save data as pickle file for future quick access\n",
    "with open('food_nutrition_data.pkl', 'wb') as file:\n",
    "    pickle.dump(data, file)\n"
   ]
  },
  {
   "cell_type": "code",
   "execution_count": 21,
   "id": "35257f9f-9ef0-41c3-af79-8e110aa96898",
   "metadata": {},
   "outputs": [
    {
     "name": "stdout",
     "output_type": "stream",
     "text": [
      "Data saved as pickle file!\n"
     ]
    }
   ],
   "source": [
    "print(\"Data saved as pickle file!\")\n",
    "\n",
    "# To later load the data from the pickle file:\n",
    "# with open('food_nutrition_data.pkl', 'rb') as file:\n",
    "#     loaded_data = pickle.load(file)"
   ]
  },
  {
   "cell_type": "code",
   "execution_count": null,
   "id": "5b998e22-3458-4a92-b1c1-bd02196c9d3c",
   "metadata": {},
   "outputs": [],
   "source": []
  }
 ],
 "metadata": {
  "kernelspec": {
   "display_name": "Python 3 (ipykernel)",
   "language": "python",
   "name": "python3"
  },
  "language_info": {
   "codemirror_mode": {
    "name": "ipython",
    "version": 3
   },
   "file_extension": ".py",
   "mimetype": "text/x-python",
   "name": "python",
   "nbconvert_exporter": "python",
   "pygments_lexer": "ipython3",
   "version": "3.11.5"
  }
 },
 "nbformat": 4,
 "nbformat_minor": 5
}
