{
 "cells": [
  {
   "cell_type": "markdown",
   "id": "3638ba67-c8b0-4fe3-8c20-2e9d9464af79",
   "metadata": {},
   "source": [
    "## Import Necessary Libraries"
   ]
  },
  {
   "cell_type": "code",
   "execution_count": 18,
   "id": "851276cb-2fe3-455d-97e1-7c29d94766fa",
   "metadata": {},
   "outputs": [],
   "source": [
    "import tensorflow as tf\n",
    "from tensorflow.keras import models, layers, optimizers, callbacks\n",
    "import matplotlib.pyplot as plt\n",
    "import numpy as np\n"
   ]
  },
  {
   "cell_type": "markdown",
   "id": "005cd8e1-c21e-4256-837d-9ca51d809c3a",
   "metadata": {},
   "source": [
    "## Setup Constants"
   ]
  },
  {
   "cell_type": "code",
   "execution_count": 19,
   "id": "ebfe07ad-c64a-4b26-8456-1179692d804b",
   "metadata": {},
   "outputs": [],
   "source": [
    "IMAGE_SIZE = 256\n",
    "BATCH_SIZE = 32\n",
    "EPOCHS = 50\n",
    "CHANNELS = 3\n",
    "FINE_TUNE_EPOCHS = 20\n",
    "TOTAL_EPOCHS = EPOCHS + FINE_TUNE_EPOCHS\n"
   ]
  },
  {
   "cell_type": "markdown",
   "id": "0732cccb-ac22-4557-8f0e-5007e47f7d02",
   "metadata": {},
   "source": [
    "##  Load Dataset"
   ]
  },
  {
   "cell_type": "code",
   "execution_count": 20,
   "id": "74e3ba1e-78d7-4a31-876b-bb660302cee1",
   "metadata": {},
   "outputs": [
    {
     "name": "stdout",
     "output_type": "stream",
     "text": [
      "Found 6748 files belonging to 23 classes.\n"
     ]
    }
   ],
   "source": [
    "dataset = tf.keras.preprocessing.image_dataset_from_directory(\n",
    "    \"images\", shuffle=True, image_size=(IMAGE_SIZE, IMAGE_SIZE), batch_size=BATCH_SIZE\n",
    ")\n",
    "class_names = dataset.class_names\n"
   ]
  },
  {
   "cell_type": "markdown",
   "id": "4b389162-bc25-427b-bc56-e9542861ffad",
   "metadata": {},
   "source": [
    "## Define Function to Split Dataset"
   ]
  },
  {
   "cell_type": "code",
   "execution_count": 21,
   "id": "1aea1d72-70c2-48a8-b0ff-da34b14e6c0b",
   "metadata": {},
   "outputs": [],
   "source": [
    "def get_dataset_partitions_tf(ds, train_split=0.8, val_split=0.1, test_split=0.1, shuffle=True, shuffle_size=10000):\n",
    "    assert (train_split + test_split + val_split) == 1\n",
    "    ds_size = len(ds)\n",
    "    if shuffle:\n",
    "        ds = ds.shuffle(shuffle_size, seed=12)\n",
    "    train_size = int(train_split * ds_size)\n",
    "    val_size = int(val_split * ds_size)\n",
    "    train_ds = ds.take(train_size)    \n",
    "    val_ds = ds.skip(train_size).take(val_size)\n",
    "    test_ds = ds.skip(train_size).skip(val_size)\n",
    "    return train_ds, val_ds, test_ds\n"
   ]
  },
  {
   "cell_type": "markdown",
   "id": "a368e94a-2c7a-4d34-8800-be9902be691e",
   "metadata": {},
   "source": [
    "## Split the Dataset"
   ]
  },
  {
   "cell_type": "code",
   "execution_count": 22,
   "id": "be700ca6-d1e1-411a-b380-12d09226c867",
   "metadata": {},
   "outputs": [],
   "source": [
    "def get_dataset_partitions_tf(ds, train_split=0.8, val_split=0.1, test_split=0.1, shuffle=True, shuffle_size=10000):\n",
    "    assert (train_split + val_split + test_split) == 1, \"Splits must sum up to 1\"\n",
    "    \n",
    "    ds_size = len(ds)\n",
    "    \n",
    "    if shuffle:\n",
    "        ds = ds.shuffle(shuffle_size, seed=12)\n",
    "    \n",
    "    train_size = int(train_split * ds_size)\n",
    "    val_size = int(val_split * ds_size)\n",
    "    \n",
    "    train_ds = ds.take(train_size)\n",
    "    val_ds = ds.skip(train_size).take(val_size)\n",
    "    test_ds = ds.skip(train_size + val_size)\n",
    "    \n",
    "    return train_ds, val_ds, test_ds\n",
    "\n"
   ]
  },
  {
   "cell_type": "code",
   "execution_count": 23,
   "id": "323e5017-e044-4f92-8916-dd4ade67d5ca",
   "metadata": {},
   "outputs": [],
   "source": [
    "train_ds, val_ds, test_ds = get_dataset_partitions_tf(dataset, train_split=0.8, val_split=0.1, test_split=0.1)\n"
   ]
  },
  {
   "cell_type": "markdown",
   "id": "d0f82bc4-3265-42db-ba83-e0e8fdeff7d3",
   "metadata": {},
   "source": [
    "## Apply Data Augmentation"
   ]
  },
  {
   "cell_type": "code",
   "execution_count": 24,
   "id": "dd0917a9-10cf-4c4b-8b36-66b4fe6b6cfa",
   "metadata": {},
   "outputs": [],
   "source": [
    "data_augmentation = tf.keras.Sequential([\n",
    "  layers.experimental.preprocessing.RandomFlip(\"horizontal_and_vertical\"),\n",
    "  layers.experimental.preprocessing.RandomRotation(0.2),\n",
    "])\n",
    "train_ds = train_ds.map(lambda x, y: (data_augmentation(x, training=True), y))\n"
   ]
  },
  {
   "cell_type": "markdown",
   "id": "f2962ffe-add8-4757-9054-f1a814a117f4",
   "metadata": {},
   "source": [
    "## Define and Compile the Model"
   ]
  },
  {
   "cell_type": "code",
   "execution_count": 25,
   "id": "3b3267ad-56b0-4e75-94ff-c1f8bb400458",
   "metadata": {},
   "outputs": [],
   "source": [
    "base_model = tf.keras.applications.EfficientNetB0(input_shape=(IMAGE_SIZE, IMAGE_SIZE, CHANNELS), include_top=False, weights='imagenet')\n",
    "base_model.trainable = False\n",
    "\n",
    "model = models.Sequential([\n",
    "    base_model,\n",
    "    layers.GlobalAveragePooling2D(),\n",
    "    layers.Dropout(0.5),\n",
    "    layers.Dense(len(class_names), activation='softmax')\n",
    "])\n",
    "\n",
    "lr_schedule = optimizers.schedules.ExponentialDecay(initial_learning_rate=1e-3, decay_steps=10000, decay_rate=0.9)\n",
    "optimizer = optimizers.Adam(learning_rate=lr_schedule)\n",
    "model.compile(optimizer=optimizer, loss='sparse_categorical_crossentropy', metrics=['accuracy'])\n"
   ]
  },
  {
   "cell_type": "markdown",
   "id": "dd725492-931e-47a9-90fc-7d779dfd2259",
   "metadata": {},
   "source": [
    "## Train the Model"
   ]
  },
  {
   "cell_type": "code",
   "execution_count": 26,
   "id": "45cbd77e-5365-4d55-9431-c73fb4410253",
   "metadata": {},
   "outputs": [
    {
     "name": "stdout",
     "output_type": "stream",
     "text": [
      "Epoch 1/100\n",
      "168/168 [==============================] - 333s 2s/step - loss: 2.2458 - accuracy: 0.3529 - val_loss: 1.4381 - val_accuracy: 0.6310\n",
      "Epoch 2/100\n",
      "168/168 [==============================] - 307s 2s/step - loss: 1.4625 - accuracy: 0.5843 - val_loss: 1.0698 - val_accuracy: 0.7098\n",
      "Epoch 3/100\n",
      "168/168 [==============================] - 306s 2s/step - loss: 1.2504 - accuracy: 0.6276 - val_loss: 0.8794 - val_accuracy: 0.7500\n",
      "Epoch 4/100\n",
      "168/168 [==============================] - 307s 2s/step - loss: 1.1369 - accuracy: 0.6672 - val_loss: 0.8389 - val_accuracy: 0.7723\n",
      "Epoch 5/100\n",
      "168/168 [==============================] - 307s 2s/step - loss: 1.0717 - accuracy: 0.6778 - val_loss: 0.8192 - val_accuracy: 0.7545\n",
      "Epoch 6/100\n",
      "168/168 [==============================] - 308s 2s/step - loss: 1.0372 - accuracy: 0.6856 - val_loss: 0.7064 - val_accuracy: 0.8036\n",
      "Epoch 7/100\n",
      "168/168 [==============================] - 308s 2s/step - loss: 0.9678 - accuracy: 0.7126 - val_loss: 0.6718 - val_accuracy: 0.8129\n",
      "Epoch 8/100\n",
      "168/168 [==============================] - 310s 2s/step - loss: 0.9592 - accuracy: 0.7063 - val_loss: 0.6738 - val_accuracy: 0.8185\n",
      "Epoch 9/100\n",
      "168/168 [==============================] - 306s 2s/step - loss: 0.9205 - accuracy: 0.7156 - val_loss: 0.6347 - val_accuracy: 0.8199\n",
      "Epoch 10/100\n",
      "168/168 [==============================] - 309s 2s/step - loss: 0.9001 - accuracy: 0.7271 - val_loss: 0.6550 - val_accuracy: 0.8065\n",
      "Epoch 11/100\n",
      "168/168 [==============================] - 307s 2s/step - loss: 0.8932 - accuracy: 0.7236 - val_loss: 0.5893 - val_accuracy: 0.8274\n",
      "Epoch 12/100\n",
      "168/168 [==============================] - 307s 2s/step - loss: 0.8862 - accuracy: 0.7249 - val_loss: 0.6068 - val_accuracy: 0.8293\n",
      "Epoch 13/100\n",
      "168/168 [==============================] - 309s 2s/step - loss: 0.8580 - accuracy: 0.7334 - val_loss: 0.5753 - val_accuracy: 0.8348\n",
      "Epoch 14/100\n",
      "168/168 [==============================] - 310s 2s/step - loss: 0.8454 - accuracy: 0.7392 - val_loss: 0.5020 - val_accuracy: 0.8557\n",
      "Epoch 15/100\n",
      "168/168 [==============================] - 306s 2s/step - loss: 0.8573 - accuracy: 0.7325 - val_loss: 0.5406 - val_accuracy: 0.8438\n",
      "Epoch 16/100\n",
      "168/168 [==============================] - 306s 2s/step - loss: 0.8392 - accuracy: 0.7347 - val_loss: 0.5400 - val_accuracy: 0.8438\n",
      "Epoch 17/100\n",
      "168/168 [==============================] - 309s 2s/step - loss: 0.8280 - accuracy: 0.7340 - val_loss: 0.5365 - val_accuracy: 0.8363\n",
      "Epoch 18/100\n",
      "168/168 [==============================] - 306s 2s/step - loss: 0.8421 - accuracy: 0.7401 - val_loss: 0.5110 - val_accuracy: 0.8363\n",
      "Epoch 19/100\n",
      "168/168 [==============================] - 314s 2s/step - loss: 0.8287 - accuracy: 0.7422 - val_loss: 0.5214 - val_accuracy: 0.8631\n",
      "Epoch 20/100\n",
      "168/168 [==============================] - 307s 2s/step - loss: 0.8270 - accuracy: 0.7444 - val_loss: 0.5102 - val_accuracy: 0.8497\n",
      "Epoch 21/100\n",
      "168/168 [==============================] - 307s 2s/step - loss: 0.8141 - accuracy: 0.7470 - val_loss: 0.5404 - val_accuracy: 0.8467\n",
      "Epoch 22/100\n",
      "168/168 [==============================] - 309s 2s/step - loss: 0.8150 - accuracy: 0.7459 - val_loss: 0.4570 - val_accuracy: 0.8690\n",
      "Epoch 23/100\n",
      "168/168 [==============================] - 307s 2s/step - loss: 0.7909 - accuracy: 0.7465 - val_loss: 0.4935 - val_accuracy: 0.8542\n",
      "Epoch 24/100\n",
      "168/168 [==============================] - 309s 2s/step - loss: 0.8019 - accuracy: 0.7467 - val_loss: 0.4709 - val_accuracy: 0.8571\n",
      "Epoch 25/100\n",
      "168/168 [==============================] - 309s 2s/step - loss: 0.7893 - accuracy: 0.7470 - val_loss: 0.4578 - val_accuracy: 0.8810\n",
      "Epoch 26/100\n",
      "168/168 [==============================] - 304s 2s/step - loss: 0.7822 - accuracy: 0.7556 - val_loss: 0.4800 - val_accuracy: 0.8713\n",
      "Epoch 27/100\n",
      "168/168 [==============================] - 309s 2s/step - loss: 0.7822 - accuracy: 0.7539 - val_loss: 0.4533 - val_accuracy: 0.8631\n",
      "Epoch 28/100\n",
      "168/168 [==============================] - 308s 2s/step - loss: 0.7807 - accuracy: 0.7543 - val_loss: 0.5197 - val_accuracy: 0.8542\n",
      "Epoch 29/100\n",
      "168/168 [==============================] - 308s 2s/step - loss: 0.7876 - accuracy: 0.7552 - val_loss: 0.4512 - val_accuracy: 0.8586\n",
      "Epoch 30/100\n",
      "168/168 [==============================] - 308s 2s/step - loss: 0.7807 - accuracy: 0.7535 - val_loss: 0.4459 - val_accuracy: 0.8765\n",
      "Epoch 31/100\n",
      "168/168 [==============================] - 310s 2s/step - loss: 0.7799 - accuracy: 0.7520 - val_loss: 0.4689 - val_accuracy: 0.8661\n",
      "Epoch 32/100\n",
      "168/168 [==============================] - 310s 2s/step - loss: 0.7591 - accuracy: 0.7563 - val_loss: 0.4825 - val_accuracy: 0.8378\n",
      "Epoch 33/100\n",
      "168/168 [==============================] - 312s 2s/step - loss: 0.7592 - accuracy: 0.7587 - val_loss: 0.4493 - val_accuracy: 0.8705\n",
      "Epoch 34/100\n",
      "168/168 [==============================] - 320s 2s/step - loss: 0.7364 - accuracy: 0.7628 - val_loss: 0.4570 - val_accuracy: 0.8631\n",
      "Epoch 35/100\n",
      "168/168 [==============================] - 315s 2s/step - loss: 0.7661 - accuracy: 0.7548 - val_loss: 0.4433 - val_accuracy: 0.8661\n",
      "Epoch 36/100\n",
      "168/168 [==============================] - 307s 2s/step - loss: 0.7821 - accuracy: 0.7574 - val_loss: 0.4108 - val_accuracy: 0.8824\n",
      "Epoch 37/100\n",
      "168/168 [==============================] - 309s 2s/step - loss: 0.7730 - accuracy: 0.7522 - val_loss: 0.4442 - val_accuracy: 0.8854\n",
      "Epoch 38/100\n",
      "168/168 [==============================] - 307s 2s/step - loss: 0.7630 - accuracy: 0.7563 - val_loss: 0.4115 - val_accuracy: 0.8824\n",
      "Epoch 39/100\n",
      "168/168 [==============================] - 308s 2s/step - loss: 0.7406 - accuracy: 0.7626 - val_loss: 0.4709 - val_accuracy: 0.8646\n",
      "Epoch 40/100\n",
      "168/168 [==============================] - 312s 2s/step - loss: 0.7285 - accuracy: 0.7630 - val_loss: 0.4120 - val_accuracy: 0.8839\n",
      "Epoch 41/100\n",
      "168/168 [==============================] - 307s 2s/step - loss: 0.7385 - accuracy: 0.7666 - val_loss: 0.4686 - val_accuracy: 0.8557\n",
      "Epoch 42/100\n",
      "168/168 [==============================] - 310s 2s/step - loss: 0.7246 - accuracy: 0.7701 - val_loss: 0.3880 - val_accuracy: 0.8929\n",
      "Epoch 43/100\n",
      "168/168 [==============================] - 316s 2s/step - loss: 0.7646 - accuracy: 0.7614 - val_loss: 0.4005 - val_accuracy: 0.8735\n",
      "Epoch 44/100\n",
      "168/168 [==============================] - 311s 2s/step - loss: 0.7534 - accuracy: 0.7573 - val_loss: 0.4632 - val_accuracy: 0.8646\n",
      "Epoch 45/100\n",
      "168/168 [==============================] - 308s 2s/step - loss: 0.7631 - accuracy: 0.7630 - val_loss: 0.3851 - val_accuracy: 0.8899\n",
      "Epoch 46/100\n",
      "168/168 [==============================] - 313s 2s/step - loss: 0.7631 - accuracy: 0.7587 - val_loss: 0.4351 - val_accuracy: 0.8601\n",
      "Epoch 47/100\n",
      "168/168 [==============================] - 315s 2s/step - loss: 0.7510 - accuracy: 0.7630 - val_loss: 0.3984 - val_accuracy: 0.8973\n",
      "Epoch 48/100\n",
      "168/168 [==============================] - 311s 2s/step - loss: 0.7375 - accuracy: 0.7671 - val_loss: 0.3972 - val_accuracy: 0.8750\n",
      "Epoch 49/100\n",
      "168/168 [==============================] - 315s 2s/step - loss: 0.7121 - accuracy: 0.7762 - val_loss: 0.4092 - val_accuracy: 0.8735\n",
      "Epoch 50/100\n",
      "168/168 [==============================] - 312s 2s/step - loss: 0.7473 - accuracy: 0.7615 - val_loss: 0.4338 - val_accuracy: 0.8690\n",
      "Epoch 51/100\n",
      "168/168 [==============================] - 308s 2s/step - loss: 0.7442 - accuracy: 0.7710 - val_loss: 0.4101 - val_accuracy: 0.8705\n",
      "Epoch 52/100\n",
      "168/168 [==============================] - 316s 2s/step - loss: 0.7573 - accuracy: 0.7630 - val_loss: 0.3860 - val_accuracy: 0.8854\n",
      "Epoch 53/100\n",
      "168/168 [==============================] - 308s 2s/step - loss: 0.7491 - accuracy: 0.7578 - val_loss: 0.3694 - val_accuracy: 0.8899\n",
      "Epoch 54/100\n",
      "168/168 [==============================] - 317s 2s/step - loss: 0.7291 - accuracy: 0.7679 - val_loss: 0.4201 - val_accuracy: 0.8571\n",
      "Epoch 55/100\n",
      "168/168 [==============================] - 317s 2s/step - loss: 0.7002 - accuracy: 0.7785 - val_loss: 0.4319 - val_accuracy: 0.8810\n",
      "Epoch 56/100\n",
      "168/168 [==============================] - 309s 2s/step - loss: 0.7335 - accuracy: 0.7705 - val_loss: 0.4021 - val_accuracy: 0.8810\n",
      "Epoch 57/100\n",
      "168/168 [==============================] - 311s 2s/step - loss: 0.7358 - accuracy: 0.7668 - val_loss: 0.4677 - val_accuracy: 0.8601\n",
      "Epoch 58/100\n",
      "168/168 [==============================] - 312s 2s/step - loss: 0.7332 - accuracy: 0.7668 - val_loss: 0.3998 - val_accuracy: 0.8750\n",
      "Epoch 59/100\n",
      "168/168 [==============================] - 309s 2s/step - loss: 0.7359 - accuracy: 0.7636 - val_loss: 0.3662 - val_accuracy: 0.8958\n",
      "Epoch 60/100\n",
      "168/168 [==============================] - 310s 2s/step - loss: 0.7486 - accuracy: 0.7668 - val_loss: 0.3555 - val_accuracy: 0.8914\n",
      "Epoch 61/100\n",
      "168/168 [==============================] - 308s 2s/step - loss: 0.7201 - accuracy: 0.7701 - val_loss: 0.3893 - val_accuracy: 0.8750\n",
      "Epoch 62/100\n",
      "168/168 [==============================] - 310s 2s/step - loss: 0.7431 - accuracy: 0.7736 - val_loss: 0.4146 - val_accuracy: 0.8690\n",
      "Epoch 63/100\n",
      "168/168 [==============================] - 313s 2s/step - loss: 0.7421 - accuracy: 0.7619 - val_loss: 0.3886 - val_accuracy: 0.8765\n",
      "Epoch 64/100\n",
      "168/168 [==============================] - 307s 2s/step - loss: 0.7246 - accuracy: 0.7662 - val_loss: 0.3852 - val_accuracy: 0.9003\n",
      "Epoch 65/100\n",
      "168/168 [==============================] - 310s 2s/step - loss: 0.7160 - accuracy: 0.7682 - val_loss: 0.3783 - val_accuracy: 0.8914\n",
      "Epoch 66/100\n",
      "168/168 [==============================] - 314s 2s/step - loss: 0.7282 - accuracy: 0.7638 - val_loss: 0.4367 - val_accuracy: 0.8795\n",
      "Epoch 67/100\n",
      "168/168 [==============================] - 310s 2s/step - loss: 0.7485 - accuracy: 0.7589 - val_loss: 0.3455 - val_accuracy: 0.9018\n",
      "Epoch 68/100\n",
      "168/168 [==============================] - 312s 2s/step - loss: 0.7240 - accuracy: 0.7643 - val_loss: 0.4373 - val_accuracy: 0.8705\n",
      "Epoch 69/100\n",
      "168/168 [==============================] - 311s 2s/step - loss: 0.7404 - accuracy: 0.7681 - val_loss: 0.3729 - val_accuracy: 0.8869\n",
      "Epoch 70/100\n",
      "168/168 [==============================] - 312s 2s/step - loss: 0.7375 - accuracy: 0.7614 - val_loss: 0.3664 - val_accuracy: 0.8973\n",
      "Epoch 71/100\n",
      "168/168 [==============================] - 311s 2s/step - loss: 0.7542 - accuracy: 0.7563 - val_loss: 0.3736 - val_accuracy: 0.8750\n",
      "Epoch 72/100\n",
      "168/168 [==============================] - 314s 2s/step - loss: 0.7439 - accuracy: 0.7623 - val_loss: 0.4041 - val_accuracy: 0.8795\n",
      "Epoch 73/100\n",
      "168/168 [==============================] - 312s 2s/step - loss: 0.7235 - accuracy: 0.7688 - val_loss: 0.4208 - val_accuracy: 0.8735\n",
      "Epoch 74/100\n",
      "168/168 [==============================] - 309s 2s/step - loss: 0.7401 - accuracy: 0.7617 - val_loss: 0.4377 - val_accuracy: 0.8586\n",
      "Epoch 75/100\n",
      "168/168 [==============================] - 318s 2s/step - loss: 0.7084 - accuracy: 0.7768 - val_loss: 0.4009 - val_accuracy: 0.8765\n",
      "Epoch 76/100\n",
      "168/168 [==============================] - 318s 2s/step - loss: 0.7062 - accuracy: 0.7807 - val_loss: 0.4582 - val_accuracy: 0.8616\n",
      "Epoch 77/100\n",
      "168/168 [==============================] - 319s 2s/step - loss: 0.7547 - accuracy: 0.7580 - val_loss: 0.3342 - val_accuracy: 0.9072\n",
      "Epoch 78/100\n",
      "168/168 [==============================] - 318s 2s/step - loss: 0.7319 - accuracy: 0.7640 - val_loss: 0.4171 - val_accuracy: 0.8690\n",
      "Epoch 79/100\n",
      "168/168 [==============================] - 308s 2s/step - loss: 0.7243 - accuracy: 0.7673 - val_loss: 0.3694 - val_accuracy: 0.8943\n",
      "Epoch 80/100\n",
      "168/168 [==============================] - 314s 2s/step - loss: 0.7256 - accuracy: 0.7714 - val_loss: 0.3830 - val_accuracy: 0.8958\n",
      "Epoch 81/100\n",
      "168/168 [==============================] - 311s 2s/step - loss: 0.7079 - accuracy: 0.7694 - val_loss: 0.3818 - val_accuracy: 0.8943\n",
      "Epoch 82/100\n",
      "168/168 [==============================] - 307s 2s/step - loss: 0.7230 - accuracy: 0.7679 - val_loss: 0.4120 - val_accuracy: 0.8631\n",
      "Epoch 83/100\n",
      "168/168 [==============================] - 311s 2s/step - loss: 0.7227 - accuracy: 0.7675 - val_loss: 0.3182 - val_accuracy: 0.9018\n",
      "Epoch 84/100\n",
      "168/168 [==============================] - 308s 2s/step - loss: 0.7192 - accuracy: 0.7651 - val_loss: 0.3880 - val_accuracy: 0.8817\n",
      "Epoch 85/100\n",
      "168/168 [==============================] - 309s 2s/step - loss: 0.7410 - accuracy: 0.7626 - val_loss: 0.4286 - val_accuracy: 0.8601\n",
      "Epoch 86/100\n",
      "168/168 [==============================] - 313s 2s/step - loss: 0.7277 - accuracy: 0.7640 - val_loss: 0.3794 - val_accuracy: 0.8854\n",
      "Epoch 87/100\n",
      "168/168 [==============================] - 314s 2s/step - loss: 0.7444 - accuracy: 0.7632 - val_loss: 0.3478 - val_accuracy: 0.8869\n",
      "Epoch 88/100\n",
      "168/168 [==============================] - 317s 2s/step - loss: 0.7335 - accuracy: 0.7664 - val_loss: 0.3697 - val_accuracy: 0.9003\n",
      "Epoch 89/100\n",
      "168/168 [==============================] - 318s 2s/step - loss: 0.7194 - accuracy: 0.7705 - val_loss: 0.3752 - val_accuracy: 0.8929\n",
      "Epoch 90/100\n",
      "168/168 [==============================] - 308s 2s/step - loss: 0.7303 - accuracy: 0.7679 - val_loss: 0.3412 - val_accuracy: 0.8839\n",
      "Epoch 91/100\n",
      "168/168 [==============================] - 310s 2s/step - loss: 0.7210 - accuracy: 0.7649 - val_loss: 0.3502 - val_accuracy: 0.9012\n",
      "Epoch 92/100\n",
      "168/168 [==============================] - 310s 2s/step - loss: 0.7220 - accuracy: 0.7673 - val_loss: 0.4136 - val_accuracy: 0.8690\n",
      "Epoch 93/100\n",
      "168/168 [==============================] - 311s 2s/step - loss: 0.7396 - accuracy: 0.7712 - val_loss: 0.3688 - val_accuracy: 0.9018\n",
      "Epoch 94/100\n",
      "168/168 [==============================] - 310s 2s/step - loss: 0.7123 - accuracy: 0.7738 - val_loss: 0.4074 - val_accuracy: 0.8705\n",
      "Epoch 95/100\n",
      "168/168 [==============================] - 307s 2s/step - loss: 0.7129 - accuracy: 0.7697 - val_loss: 0.3552 - val_accuracy: 0.8973\n",
      "Epoch 96/100\n",
      "168/168 [==============================] - 309s 2s/step - loss: 0.7216 - accuracy: 0.7671 - val_loss: 0.3685 - val_accuracy: 0.8824\n",
      "Epoch 97/100\n",
      "168/168 [==============================] - 308s 2s/step - loss: 0.7206 - accuracy: 0.7705 - val_loss: 0.3809 - val_accuracy: 0.9092\n",
      "Epoch 98/100\n",
      "168/168 [==============================] - 312s 2s/step - loss: 0.7336 - accuracy: 0.7632 - val_loss: 0.3727 - val_accuracy: 0.8795\n",
      "Epoch 99/100\n",
      "168/168 [==============================] - 311s 2s/step - loss: 0.7466 - accuracy: 0.7613 - val_loss: 0.3687 - val_accuracy: 0.8899\n",
      "Epoch 100/100\n",
      "168/168 [==============================] - 310s 2s/step - loss: 0.7072 - accuracy: 0.7748 - val_loss: 0.3640 - val_accuracy: 0.8958\n"
     ]
    }
   ],
   "source": [
    "history = model.fit(train_ds, validation_data=val_ds, epochs=100, verbose=1)\n"
   ]
  },
  {
   "cell_type": "markdown",
   "id": "b12f2bc5-b9d5-4b15-820d-44a8b03b99f5",
   "metadata": {},
   "source": [
    "## Unfreeze Base Model and Fine-tune"
   ]
  },
  {
   "cell_type": "code",
   "execution_count": 31,
   "id": "7bee48a1-d9d6-4cdc-a05c-bc97a9f23fb4",
   "metadata": {},
   "outputs": [],
   "source": [
    "base_model.trainable = True\n",
    "model.compile(optimizer=optimizers.Adam(learning_rate=1e-5), loss='sparse_categorical_crossentropy', metrics=['accuracy'])\n",
    "early_stopping = callbacks.EarlyStopping(monitor='val_loss', patience=5, restore_best_weights=True)\n",
    "model_checkpoint = callbacks.ModelCheckpoint('best_model.h5', save_best_only=True)\n",
    "history_fine = model.fit(train_ds, validation_data=val_ds, epochs=FINE_TUNE_EPOCHS, initial_epoch=history.epoch[-1], callbacks=[early_stopping, model_checkpoint], verbose=1)\n"
   ]
  },
  {
   "cell_type": "markdown",
   "id": "4dc1f5da-d498-47b6-b177-3661272d99a5",
   "metadata": {},
   "source": [
    "## Evaluate and Save Model"
   ]
  },
  {
   "cell_type": "code",
   "execution_count": 28,
   "id": "2e1f313b-3c7f-40b4-ad9f-dde76e96324e",
   "metadata": {},
   "outputs": [
    {
     "name": "stdout",
     "output_type": "stream",
     "text": [
      "[INFO] Calculating model accuracy\n",
      "22/22 [==============================] - 46s 2s/step - loss: 0.3931 - accuracy: 0.8849\n",
      "Test Accuracy: 88.49000000000001%\n"
     ]
    },
    {
     "name": "stderr",
     "output_type": "stream",
     "text": [
      "C:\\Users\\Micheal\\AppData\\Local\\Programs\\Python\\Python311\\Lib\\site-packages\\keras\\src\\engine\\training.py:3000: UserWarning: You are saving your model as an HDF5 file via `model.save()`. This file format is considered legacy. We recommend using instead the native Keras format, e.g. `model.save('my_model.keras')`.\n",
      "  saving_api.save_model(\n"
     ]
    }
   ],
   "source": [
    "print(\"[INFO] Calculating model accuracy\")\n",
    "scores = model.evaluate(test_ds)\n",
    "print(f\"Test Accuracy: {round(scores[1],4)*100}%\")\n",
    "model.save(\"final_model.h5\")\n"
   ]
  },
  {
   "cell_type": "markdown",
   "id": "8816bb12-e676-4ca4-a14b-39277976a8f8",
   "metadata": {},
   "source": [
    "## Plot Training Curves (Optional)"
   ]
  },
  {
   "cell_type": "code",
   "execution_count": 32,
   "id": "7856cea4-1b1a-4e5b-aa6c-9e5e501dc43e",
   "metadata": {},
   "outputs": [
    {
     "data": {
      "image/png": "[encoded data removed]",
      "text/plain": [
       "<Figure size 1200x400 with 2 Axes>"
      ]
     },
     "metadata": {},
     "output_type": "display_data"
    }
   ],
   "source": [
    "plt.figure(figsize=(12,4))\n",
    "\n",
    "plt.subplot(1,2,1)\n",
    "plt.plot(history.history.get('acc', []) + history_fine.history.get('acc', []), label='Training Accuracy')\n",
    "plt.plot(history.history.get('val_acc', []) + history_fine.history.get('val_acc', []), label='Validation Accuracy')\n",
    "plt.xlabel('Epoch')\n",
    "plt.ylabel('Accuracy')\n",
    "plt.legend(loc='lower right')\n",
    "\n",
    "plt.subplot(1,2,2)\n",
    "plt.plot(history.history.get('loss', []) + history_fine.history.get('loss', []), label='Training Loss')\n",
    "plt.plot(history.history.get('val_loss', []) + history_fine.history.get('val_loss', []), label='Validation Loss')\n",
    "plt.xlabel('Epoch')\n",
    "plt.ylabel('Loss')\n",
    "plt.legend(loc='upper right')\n",
    "\n",
    "plt.show()\n"
   ]
  },
  {
   "cell_type": "markdown",
   "id": "b416cd37-f087-43ff-ab76-0bcdd312b51f",
   "metadata": {},
   "source": [
    "### @clever project"
   ]
  },
  {
   "cell_type": "code",
   "execution_count": null,
   "id": "d36ad77b-ac8b-48bc-8b3d-887b030aa8ad",
   "metadata": {},
   "outputs": [],
   "source": []
  }
 ],
 "metadata": {
  "kernelspec": {
   "display_name": "Python 3 (ipykernel)",
   "language": "python",
   "name": "python3"
  },
  "language_info": {
   "codemirror_mode": {
    "name": "ipython",
    "version": 3
   },
   "file_extension": ".py",
   "mimetype": "text/x-python",
   "name": "python",
   "nbconvert_exporter": "python",
   "pygments_lexer": "ipython3",
   "version": "3.11.5"
  }
 },
 "nbformat": 4,
 "nbformat_minor": 5
}
